{
 "cells": [
  {
   "cell_type": "code",
   "execution_count": 3,
   "id": "745e48cc",
   "metadata": {},
   "outputs": [],
   "source": [
    "import boto3\n",
    "import os\n",
    "from S3_bucket import S3FileCollector"
   ]
  },
  {
   "cell_type": "code",
   "execution_count": 4,
   "id": "b60e9c2a",
   "metadata": {},
   "outputs": [
    {
     "name": "stdout",
     "output_type": "stream",
     "text": [
      "Downloaded files from 'transaction-hist': ['22162741065.csv']\n"
     ]
    }
   ],
   "source": [
    "# Example Usage:\n",
    "s3_manager = S3FileCollector()\n",
    "\n",
    "bucket_name_to_check = 'transaction-hist'\n",
    "s3_manager.download_files_from_bucket(bucket_name_to_check)"
   ]
  },
  {
   "cell_type": "code",
   "execution_count": 5,
   "id": "f56bdd5e",
   "metadata": {},
   "outputs": [
    {
     "name": "stdout",
     "output_type": "stream",
     "text": [
      "The specified bucket 'transaction-hist_' does not exist.\n"
     ]
    }
   ],
   "source": [
    "# Example Usage:\n",
    "s3_manager = S3FileCollector()\n",
    "\n",
    "bucket_name_to_check = 'transaction-hist_'\n",
    "s3_manager.download_files_from_bucket(bucket_name_to_check)"
   ]
  },
  {
   "cell_type": "code",
   "execution_count": null,
   "id": "f0edc375",
   "metadata": {},
   "outputs": [],
   "source": []
  }
 ],
 "metadata": {
  "kernelspec": {
   "display_name": "Python 3 (ipykernel)",
   "language": "python",
   "name": "python3"
  },
  "language_info": {
   "codemirror_mode": {
    "name": "ipython",
    "version": 3
   },
   "file_extension": ".py",
   "mimetype": "text/x-python",
   "name": "python",
   "nbconvert_exporter": "python",
   "pygments_lexer": "ipython3",
   "version": "3.9.16"
  }
 },
 "nbformat": 4,
 "nbformat_minor": 5
}
